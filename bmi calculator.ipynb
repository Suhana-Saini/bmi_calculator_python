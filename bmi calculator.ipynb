{
 "cells": [
  {
   "cell_type": "code",
   "execution_count": 2,
   "id": "1fe5e008",
   "metadata": {},
   "outputs": [
    {
     "name": "stdout",
     "output_type": "stream",
     "text": [
      "BMI is \n",
      "13.84083044982699\n",
      "suhana\n",
      "is not overweight\n"
     ]
    }
   ],
   "source": [
    "NAME = \"suhana\"\n",
    "Height_m = 1.7\n",
    "Weight_kg = 40\n",
    "BMI = Weight_kg/(Height_m**2)\n",
    "print(\"BMI is \")\n",
    "print(BMI)\n",
    "if BMI < 25:\n",
    "    print(NAME)\n",
    "    print(\"is not overweight\")\n",
    "else:\n",
    "    print(NAME)\n",
    "    print(\"is overweight\")"
   ]
  },
  {
   "cell_type": "code",
   "execution_count": null,
   "id": "a41123f3",
   "metadata": {},
   "outputs": [],
   "source": []
  }
 ],
 "metadata": {
  "kernelspec": {
   "display_name": "Python 3",
   "language": "python",
   "name": "python3"
  },
  "language_info": {
   "codemirror_mode": {
    "name": "ipython",
    "version": 3
   },
   "file_extension": ".py",
   "mimetype": "text/x-python",
   "name": "python",
   "nbconvert_exporter": "python",
   "pygments_lexer": "ipython3",
   "version": "3.8.8"
  }
 },
 "nbformat": 4,
 "nbformat_minor": 5
}
